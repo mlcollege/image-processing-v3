{
  "nbformat": 4,
  "nbformat_minor": 0,
  "metadata": {
    "colab": {
      "name": "03-Normalization-and-regularization-solution.ipynb",
      "provenance": []
    },
    "kernelspec": {
      "name": "python3",
      "display_name": "Python 3"
    },
    "accelerator": "GPU"
  },
  "cells": [
    {
      "cell_type": "markdown",
      "metadata": {
        "id": "W38AS1bbMSAB"
      },
      "source": [
        "# Normalization and regularization techniques"
      ]
    },
    {
      "cell_type": "markdown",
      "metadata": {
        "id": "rRvEGyli-o16"
      },
      "source": [
        "## Load the data\n",
        "\n",
        "We will experiment with [Fashion MNIST](https://github.com/zalandoresearch/fashion-mnist) data set. It is similar to well known MNIST data set but a bit more difficult to classify. It consists of clothing classes. The data is already shuffled and split to train and test parts."
      ]
    },
    {
      "cell_type": "code",
      "metadata": {
        "id": "ffslWOEb-pmu",
        "outputId": "0000214c-0850-4a17-e0f0-84e3ee06559d",
        "colab": {
          "base_uri": "https://localhost:8080/"
        }
      },
      "source": [
        "import pickle\n",
        "from keras.datasets import fashion_mnist\n",
        "\n",
        "(X_train, y_train), (X_test, y_test) = fashion_mnist.load_data()\n",
        "\n",
        "print(\"X_train original shape: {}\".format(X_train.shape))\n",
        "print(\"y_train original shape: {}\".format(y_train.shape))\n",
        "print(\"X_test original shape: {}\".format(X_test.shape))\n",
        "print(\"y_test original shape: {}\".format(y_test.shape))"
      ],
      "execution_count": 1,
      "outputs": [
        {
          "output_type": "stream",
          "name": "stdout",
          "text": [
            "X_train original shape: (60000, 28, 28)\n",
            "y_train original shape: (60000,)\n",
            "X_test original shape: (10000, 28, 28)\n",
            "y_test original shape: (10000,)\n"
          ]
        }
      ]
    },
    {
      "cell_type": "markdown",
      "metadata": {
        "id": "tm92Tbbi-ySC"
      },
      "source": [
        "Look at one random example."
      ]
    },
    {
      "cell_type": "code",
      "metadata": {
        "id": "uVelrCku-uiR",
        "outputId": "c1c83ef4-38f5-4a14-9446-f61aa2bc1247",
        "colab": {
          "base_uri": "https://localhost:8080/",
          "height": 452
        }
      },
      "source": [
        "%matplotlib inline\n",
        "import matplotlib.pyplot as plt\n",
        "i=3495\n",
        "\n",
        "#print(X_train[i])\n",
        "plt.imshow(X_train[i], cmap='gray')\n",
        "plt.title(\"Class {}\".format(y_train[i]))\n",
        "plt.show()"
      ],
      "execution_count": 2,
      "outputs": [
        {
          "output_type": "display_data",
          "data": {
            "text/plain": [
              "<Figure size 640x480 with 1 Axes>"
            ],
            "image/png": "[encoded data removed]"
          },
          "metadata": {}
        }
      ]
    },
    {
      "cell_type": "markdown",
      "metadata": {
        "id": "6wIkgz7X-44q"
      },
      "source": [
        "## Transform the data\n",
        "\n",
        "We need to scale the input values to have the range (0,1)."
      ]
    },
    {
      "cell_type": "code",
      "metadata": {
        "id": "eo58moqt-0r0"
      },
      "source": [
        "X_train = X_train.astype('float32')\n",
        "X_test = X_test.astype('float32')\n",
        "X_train /= 255\n",
        "X_test /= 255"
      ],
      "execution_count": 3,
      "outputs": []
    },
    {
      "cell_type": "markdown",
      "metadata": {
        "id": "jGM3Camr_D5l"
      },
      "source": [
        "Reshape to 3d tensors (width, height, channels)."
      ]
    },
    {
      "cell_type": "code",
      "metadata": {
        "id": "RntHN3GZ_EWA",
        "outputId": "63a37023-cc4f-4146-9581-aed8e3c4b908",
        "colab": {
          "base_uri": "https://localhost:8080/"
        }
      },
      "source": [
        "X_train3d = X_train.reshape(60000, 28, 28, 1)\n",
        "X_test3d = X_test.reshape(10000, 28, 28, 1)\n",
        "print(\"X_train matrix shape: {}\".format(X_train3d.shape))\n",
        "print(\"X_test matrix shape: {}\".format(X_test3d.shape))"
      ],
      "execution_count": 4,
      "outputs": [
        {
          "output_type": "stream",
          "name": "stdout",
          "text": [
            "X_train matrix shape: (60000, 28, 28, 1)\n",
            "X_test matrix shape: (10000, 28, 28, 1)\n"
          ]
        }
      ]
    },
    {
      "cell_type": "markdown",
      "metadata": {
        "id": "-jaa13K4_LWy"
      },
      "source": [
        "Transform the targets into one-hot encoding, i.e.\n",
        "\n",
        "\n",
        "```\n",
        "0 -> [1, 0, 0, 0, 0, 0, 0, 0, 0]\n",
        "1 -> [0, 1, 0, 0, 0, 0, 0, 0, 0]\n",
        "2 -> [0, 0, 1, 0, 0, 0, 0, 0, 0]\n",
        "```\n",
        "etc."
      ]
    },
    {
      "cell_type": "code",
      "metadata": {
        "id": "IEuuEd5N_GhB",
        "outputId": "d50d2f62-8e6d-4792-be99-2a4d74213308",
        "colab": {
          "base_uri": "https://localhost:8080/"
        }
      },
      "source": [
        "from keras.utils import to_categorical\n",
        "\n",
        "n_classes = 10\n",
        "\n",
        "print(y_train[49])\n",
        "\n",
        "y_train = to_categorical(y_train, n_classes)\n",
        "y_test = to_categorical(y_test, n_classes)\n",
        "\n",
        "print(y_train[49])"
      ],
      "execution_count": 5,
      "outputs": [
        {
          "output_type": "stream",
          "name": "stdout",
          "text": [
            "3\n",
            "[0. 0. 0. 1. 0. 0. 0. 0. 0. 0.]\n"
          ]
        }
      ]
    },
    {
      "cell_type": "markdown",
      "metadata": {
        "id": "bJ_yK58i_Ucc"
      },
      "source": [
        "## Architecture definition\n",
        "\n",
        "This is a simple functional model for the classification problem. Your tasks are:\n",
        "1. Implement [Batch](https://keras.io/api/layers/normalization_layers/batch_normalization/) and [Layer](https://keras.io/api/layers/normalization_layers/layer_normalization/) normalization and compare the accuracies.\n",
        "2. Experiment with [L2 regularization](https://keras.io/api/layers/regularizers/) and [dropout](https://keras.io/api/layers/regularization_layers/dropout/). Try to maximize the validation accuracy.\n"
      ]
    },
    {
      "cell_type": "code",
      "metadata": {
        "id": "mISOO8tQ_ved"
      },
      "source": [
        "from keras.models import Model\n",
        "from keras.layers import Input, BatchNormalization, Flatten, Dropout, Dense, Activation, BatchNormalization, LayerNormalization\n",
        "from keras.layers import Conv2D, MaxPooling2D\n",
        "\n",
        "#Define input of the Neural Network\n",
        "visible = Input(shape=(28, 28, 1, ))\n",
        "\n",
        "#convolution 1st layer\n",
        "conv1 = Conv2D(64, kernel_size=(3,3), padding=\"same\")(visible)\n",
        "activ1 = Activation('relu')(conv1)\n",
        "bn1 = BatchNormalization()(activ1)\n",
        "drop1 = Dropout(0.25)(bn1)\n",
        "\n",
        "#convolution 2nd layer\n",
        "conv2 = Conv2D(64, kernel_size=(3,3), padding=\"same\")(drop1)\n",
        "activ2 = Activation('relu')(conv2)\n",
        "bn2 = BatchNormalization()(activ2)\n",
        "pool2 = MaxPooling2D()(bn2)\n",
        "drop2 = Dropout(0.25)(pool2)\n",
        "\n",
        "#convolution 3rd layer\n",
        "conv3 = Conv2D(64, kernel_size=(3,3), padding=\"same\")(drop2)\n",
        "activ3 = Activation('relu')(conv3)\n",
        "bn3 = BatchNormalization()(activ3)\n",
        "pool3 = MaxPooling2D()(bn3)\n",
        "drop3 = Dropout(0.25)(pool3)\n",
        "\n",
        "#fully connected 4th layer\n",
        "flat4 = Flatten()(drop3)\n",
        "dense4 = Dense(500)(flat4)\n",
        "bn4 = BatchNormalization()(dense4)\n",
        "activ4 = Activation('relu')(bn4)\n",
        "drop4 = Dropout(0.25)(activ4)\n",
        "\n",
        "#fully connected 5th layer\n",
        "dense5 = Dense(10)(drop4)\n",
        "output = Activation('softmax')(dense5)\n",
        "\n",
        "model = Model(inputs=visible, outputs=output)\n"
      ],
      "execution_count": 6,
      "outputs": []
    },
    {
      "cell_type": "code",
      "metadata": {
        "id": "LMvSl5erbuEg"
      },
      "source": [
        "from tensorflow.keras.utils import plot_model\n",
        "#print(model.summary())\n",
        "#plot_model(model)"
      ],
      "execution_count": 7,
      "outputs": []
    },
    {
      "cell_type": "markdown",
      "metadata": {
        "id": "TBwd1WqbO03N"
      },
      "source": [
        "Compile and the model"
      ]
    },
    {
      "cell_type": "code",
      "metadata": {
        "id": "j5ux0mm1_2VO"
      },
      "source": [
        "model.compile(loss='categorical_crossentropy',\n",
        "              optimizer='adam',\n",
        "              metrics=['accuracy'])"
      ],
      "execution_count": 8,
      "outputs": []
    },
    {
      "cell_type": "code",
      "metadata": {
        "id": "RrmhiUZfAIOy",
        "outputId": "5459a31e-8d26-48cf-cfd9-afa8c17bceb1",
        "colab": {
          "base_uri": "https://localhost:8080/"
        }
      },
      "source": [
        "model.fit(X_train3d, y_train,\n",
        "          batch_size = 128, epochs = 100, verbose=1,\n",
        "          validation_data=(X_test3d, y_test))"
      ],
      "execution_count": 9,
      "outputs": [
        {
          "output_type": "stream",
          "name": "stdout",
          "text": [
            "Epoch 1/100\n",
            "469/469 [==============================] - 25s 27ms/step - loss: 0.3931 - accuracy: 0.8577 - val_loss: 1.6304 - val_accuracy: 0.5807\n",
            "Epoch 2/100\n",
            "469/469 [==============================] - 11s 24ms/step - loss: 0.2620 - accuracy: 0.9033 - val_loss: 0.2524 - val_accuracy: 0.9085\n",
            "Epoch 3/100\n",
            "469/469 [==============================] - 11s 23ms/step - loss: 0.2248 - accuracy: 0.9177 - val_loss: 0.2234 - val_accuracy: 0.9184\n",
            "Epoch 4/100\n",
            "469/469 [==============================] - 11s 23ms/step - loss: 0.1998 - accuracy: 0.9260 - val_loss: 0.2051 - val_accuracy: 0.9230\n",
            "Epoch 5/100\n",
            "469/469 [==============================] - 11s 23ms/step - loss: 0.1801 - accuracy: 0.9340 - val_loss: 0.2053 - val_accuracy: 0.9282\n",
            "Epoch 6/100\n",
            "469/469 [==============================] - 12s 25ms/step - loss: 0.1646 - accuracy: 0.9390 - val_loss: 0.1941 - val_accuracy: 0.9286\n",
            "Epoch 7/100\n",
            "469/469 [==============================] - 11s 22ms/step - loss: 0.1504 - accuracy: 0.9432 - val_loss: 0.1971 - val_accuracy: 0.9296\n",
            "Epoch 8/100\n",
            "469/469 [==============================] - 10s 22ms/step - loss: 0.1378 - accuracy: 0.9491 - val_loss: 0.1864 - val_accuracy: 0.9358\n",
            "Epoch 9/100\n",
            "469/469 [==============================] - 11s 24ms/step - loss: 0.1292 - accuracy: 0.9516 - val_loss: 0.1949 - val_accuracy: 0.9344\n",
            "Epoch 10/100\n",
            "469/469 [==============================] - 11s 23ms/step - loss: 0.1154 - accuracy: 0.9568 - val_loss: 0.1846 - val_accuracy: 0.9369\n",
            "Epoch 11/100\n",
            "469/469 [==============================] - 11s 23ms/step - loss: 0.1058 - accuracy: 0.9602 - val_loss: 0.1928 - val_accuracy: 0.9341\n",
            "Epoch 12/100\n",
            "469/469 [==============================] - 11s 23ms/step - loss: 0.0975 - accuracy: 0.9631 - val_loss: 0.2026 - val_accuracy: 0.9348\n",
            "Epoch 13/100\n",
            "469/469 [==============================] - 11s 23ms/step - loss: 0.0902 - accuracy: 0.9665 - val_loss: 0.2172 - val_accuracy: 0.9312\n",
            "Epoch 14/100\n",
            "469/469 [==============================] - 11s 23ms/step - loss: 0.0856 - accuracy: 0.9686 - val_loss: 0.1991 - val_accuracy: 0.9377\n",
            "Epoch 15/100\n",
            "469/469 [==============================] - 11s 23ms/step - loss: 0.0761 - accuracy: 0.9716 - val_loss: 0.2149 - val_accuracy: 0.9328\n",
            "Epoch 16/100\n",
            "469/469 [==============================] - 10s 22ms/step - loss: 0.0717 - accuracy: 0.9736 - val_loss: 0.2152 - val_accuracy: 0.9382\n",
            "Epoch 17/100\n",
            "469/469 [==============================] - 11s 23ms/step - loss: 0.0661 - accuracy: 0.9750 - val_loss: 0.2163 - val_accuracy: 0.9352\n",
            "Epoch 18/100\n",
            "469/469 [==============================] - 11s 23ms/step - loss: 0.0639 - accuracy: 0.9762 - val_loss: 0.2156 - val_accuracy: 0.9345\n",
            "Epoch 19/100\n",
            "469/469 [==============================] - 11s 23ms/step - loss: 0.0586 - accuracy: 0.9786 - val_loss: 0.2304 - val_accuracy: 0.9335\n",
            "Epoch 20/100\n",
            "469/469 [==============================] - 11s 23ms/step - loss: 0.0587 - accuracy: 0.9787 - val_loss: 0.2156 - val_accuracy: 0.9393\n",
            "Epoch 21/100\n",
            "469/469 [==============================] - 11s 23ms/step - loss: 0.0525 - accuracy: 0.9805 - val_loss: 0.2468 - val_accuracy: 0.9358\n",
            "Epoch 22/100\n",
            "469/469 [==============================] - 11s 23ms/step - loss: 0.0491 - accuracy: 0.9818 - val_loss: 0.2290 - val_accuracy: 0.9376\n",
            "Epoch 23/100\n",
            "469/469 [==============================] - 11s 23ms/step - loss: 0.0481 - accuracy: 0.9827 - val_loss: 0.2349 - val_accuracy: 0.9370\n",
            "Epoch 24/100\n",
            "469/469 [==============================] - 11s 23ms/step - loss: 0.0461 - accuracy: 0.9828 - val_loss: 0.2628 - val_accuracy: 0.9318\n",
            "Epoch 25/100\n",
            "469/469 [==============================] - 11s 23ms/step - loss: 0.0445 - accuracy: 0.9841 - val_loss: 0.2329 - val_accuracy: 0.9394\n",
            "Epoch 26/100\n",
            "469/469 [==============================] - 11s 23ms/step - loss: 0.0392 - accuracy: 0.9856 - val_loss: 0.2457 - val_accuracy: 0.9359\n",
            "Epoch 27/100\n",
            "469/469 [==============================] - 11s 23ms/step - loss: 0.0390 - accuracy: 0.9861 - val_loss: 0.2450 - val_accuracy: 0.9386\n",
            "Epoch 28/100\n",
            "469/469 [==============================] - 11s 23ms/step - loss: 0.0375 - accuracy: 0.9871 - val_loss: 0.2450 - val_accuracy: 0.9358\n",
            "Epoch 29/100\n",
            "469/469 [==============================] - 11s 23ms/step - loss: 0.0335 - accuracy: 0.9877 - val_loss: 0.2494 - val_accuracy: 0.9389\n",
            "Epoch 30/100\n",
            "469/469 [==============================] - 11s 23ms/step - loss: 0.0346 - accuracy: 0.9875 - val_loss: 0.2435 - val_accuracy: 0.9371\n",
            "Epoch 31/100\n",
            "469/469 [==============================] - 11s 23ms/step - loss: 0.0342 - accuracy: 0.9878 - val_loss: 0.2634 - val_accuracy: 0.9362\n",
            "Epoch 32/100\n",
            "469/469 [==============================] - 11s 23ms/step - loss: 0.0348 - accuracy: 0.9874 - val_loss: 0.2572 - val_accuracy: 0.9362\n",
            "Epoch 33/100\n",
            "469/469 [==============================] - 11s 24ms/step - loss: 0.0324 - accuracy: 0.9880 - val_loss: 0.2665 - val_accuracy: 0.9378\n",
            "Epoch 34/100\n",
            "469/469 [==============================] - 11s 23ms/step - loss: 0.0296 - accuracy: 0.9892 - val_loss: 0.2621 - val_accuracy: 0.9371\n",
            "Epoch 35/100\n",
            "469/469 [==============================] - 11s 24ms/step - loss: 0.0299 - accuracy: 0.9893 - val_loss: 0.2612 - val_accuracy: 0.9376\n",
            "Epoch 36/100\n",
            "469/469 [==============================] - 11s 23ms/step - loss: 0.0286 - accuracy: 0.9900 - val_loss: 0.2522 - val_accuracy: 0.9394\n",
            "Epoch 37/100\n",
            "469/469 [==============================] - 11s 23ms/step - loss: 0.0269 - accuracy: 0.9905 - val_loss: 0.2624 - val_accuracy: 0.9377\n",
            "Epoch 38/100\n",
            "469/469 [==============================] - 11s 23ms/step - loss: 0.0264 - accuracy: 0.9910 - val_loss: 0.2588 - val_accuracy: 0.9403\n",
            "Epoch 39/100\n",
            "469/469 [==============================] - 11s 22ms/step - loss: 0.0259 - accuracy: 0.9911 - val_loss: 0.2636 - val_accuracy: 0.9399\n",
            "Epoch 40/100\n",
            "469/469 [==============================] - 11s 23ms/step - loss: 0.0254 - accuracy: 0.9912 - val_loss: 0.2571 - val_accuracy: 0.9399\n",
            "Epoch 41/100\n",
            "469/469 [==============================] - 11s 23ms/step - loss: 0.0240 - accuracy: 0.9917 - val_loss: 0.2706 - val_accuracy: 0.9381\n",
            "Epoch 42/100\n",
            "469/469 [==============================] - 11s 23ms/step - loss: 0.0223 - accuracy: 0.9920 - val_loss: 0.2725 - val_accuracy: 0.9364\n",
            "Epoch 43/100\n",
            "469/469 [==============================] - 11s 23ms/step - loss: 0.0216 - accuracy: 0.9926 - val_loss: 0.2805 - val_accuracy: 0.9374\n",
            "Epoch 44/100\n",
            "469/469 [==============================] - 11s 23ms/step - loss: 0.0236 - accuracy: 0.9917 - val_loss: 0.2691 - val_accuracy: 0.9368\n",
            "Epoch 45/100\n",
            "469/469 [==============================] - 11s 23ms/step - loss: 0.0230 - accuracy: 0.9920 - val_loss: 0.2926 - val_accuracy: 0.9368\n",
            "Epoch 46/100\n",
            "469/469 [==============================] - 11s 22ms/step - loss: 0.0232 - accuracy: 0.9917 - val_loss: 0.2794 - val_accuracy: 0.9387\n",
            "Epoch 47/100\n",
            "469/469 [==============================] - 11s 23ms/step - loss: 0.0203 - accuracy: 0.9932 - val_loss: 0.2703 - val_accuracy: 0.9367\n",
            "Epoch 48/100\n",
            "469/469 [==============================] - 11s 23ms/step - loss: 0.0218 - accuracy: 0.9925 - val_loss: 0.2741 - val_accuracy: 0.9391\n",
            "Epoch 49/100\n",
            "469/469 [==============================] - 11s 23ms/step - loss: 0.0196 - accuracy: 0.9934 - val_loss: 0.2846 - val_accuracy: 0.9376\n",
            "Epoch 50/100\n",
            "469/469 [==============================] - 10s 22ms/step - loss: 0.0205 - accuracy: 0.9932 - val_loss: 0.3082 - val_accuracy: 0.9378\n",
            "Epoch 51/100\n",
            "469/469 [==============================] - 11s 23ms/step - loss: 0.0198 - accuracy: 0.9927 - val_loss: 0.3167 - val_accuracy: 0.9338\n",
            "Epoch 52/100\n",
            "469/469 [==============================] - 11s 23ms/step - loss: 0.0203 - accuracy: 0.9928 - val_loss: 0.2729 - val_accuracy: 0.9365\n",
            "Epoch 53/100\n",
            "469/469 [==============================] - 11s 23ms/step - loss: 0.0209 - accuracy: 0.9926 - val_loss: 0.2834 - val_accuracy: 0.9397\n",
            "Epoch 54/100\n",
            "469/469 [==============================] - 11s 23ms/step - loss: 0.0181 - accuracy: 0.9939 - val_loss: 0.2925 - val_accuracy: 0.9401\n",
            "Epoch 55/100\n",
            "469/469 [==============================] - 11s 23ms/step - loss: 0.0193 - accuracy: 0.9930 - val_loss: 0.2744 - val_accuracy: 0.9389\n",
            "Epoch 56/100\n",
            "469/469 [==============================] - 11s 23ms/step - loss: 0.0190 - accuracy: 0.9936 - val_loss: 0.2929 - val_accuracy: 0.9380\n",
            "Epoch 57/100\n",
            "469/469 [==============================] - 11s 23ms/step - loss: 0.0188 - accuracy: 0.9940 - val_loss: 0.2991 - val_accuracy: 0.9391\n",
            "Epoch 58/100\n",
            "469/469 [==============================] - 11s 23ms/step - loss: 0.0179 - accuracy: 0.9936 - val_loss: 0.2839 - val_accuracy: 0.9392\n",
            "Epoch 59/100\n",
            "469/469 [==============================] - 11s 23ms/step - loss: 0.0172 - accuracy: 0.9940 - val_loss: 0.3012 - val_accuracy: 0.9384\n",
            "Epoch 60/100\n",
            "469/469 [==============================] - 10s 22ms/step - loss: 0.0181 - accuracy: 0.9939 - val_loss: 0.3342 - val_accuracy: 0.9341\n",
            "Epoch 61/100\n",
            "469/469 [==============================] - 11s 22ms/step - loss: 0.0165 - accuracy: 0.9943 - val_loss: 0.3023 - val_accuracy: 0.9381\n",
            "Epoch 62/100\n",
            "469/469 [==============================] - 11s 23ms/step - loss: 0.0164 - accuracy: 0.9941 - val_loss: 0.3021 - val_accuracy: 0.9363\n",
            "Epoch 63/100\n",
            "469/469 [==============================] - 11s 23ms/step - loss: 0.0156 - accuracy: 0.9943 - val_loss: 0.2949 - val_accuracy: 0.9384\n",
            "Epoch 64/100\n",
            "469/469 [==============================] - 11s 23ms/step - loss: 0.0153 - accuracy: 0.9951 - val_loss: 0.3168 - val_accuracy: 0.9369\n",
            "Epoch 65/100\n",
            "469/469 [==============================] - 11s 23ms/step - loss: 0.0194 - accuracy: 0.9938 - val_loss: 0.2992 - val_accuracy: 0.9372\n",
            "Epoch 66/100\n",
            "469/469 [==============================] - 11s 23ms/step - loss: 0.0164 - accuracy: 0.9943 - val_loss: 0.2930 - val_accuracy: 0.9362\n",
            "Epoch 67/100\n",
            "469/469 [==============================] - 11s 23ms/step - loss: 0.0154 - accuracy: 0.9945 - val_loss: 0.2966 - val_accuracy: 0.9390\n",
            "Epoch 68/100\n",
            "469/469 [==============================] - 11s 23ms/step - loss: 0.0144 - accuracy: 0.9949 - val_loss: 0.3082 - val_accuracy: 0.9395\n",
            "Epoch 69/100\n",
            "469/469 [==============================] - 11s 23ms/step - loss: 0.0156 - accuracy: 0.9945 - val_loss: 0.2916 - val_accuracy: 0.9366\n",
            "Epoch 70/100\n",
            "469/469 [==============================] - 11s 23ms/step - loss: 0.0156 - accuracy: 0.9945 - val_loss: 0.3364 - val_accuracy: 0.9360\n",
            "Epoch 71/100\n",
            "469/469 [==============================] - 11s 23ms/step - loss: 0.0152 - accuracy: 0.9948 - val_loss: 0.3195 - val_accuracy: 0.9354\n",
            "Epoch 72/100\n",
            "469/469 [==============================] - 11s 23ms/step - loss: 0.0161 - accuracy: 0.9944 - val_loss: 0.3107 - val_accuracy: 0.9379\n",
            "Epoch 73/100\n",
            "469/469 [==============================] - 11s 23ms/step - loss: 0.0132 - accuracy: 0.9955 - val_loss: 0.3088 - val_accuracy: 0.9379\n",
            "Epoch 74/100\n",
            "469/469 [==============================] - 11s 23ms/step - loss: 0.0129 - accuracy: 0.9959 - val_loss: 0.3052 - val_accuracy: 0.9403\n",
            "Epoch 75/100\n",
            "469/469 [==============================] - 11s 22ms/step - loss: 0.0149 - accuracy: 0.9946 - val_loss: 0.3105 - val_accuracy: 0.9359\n",
            "Epoch 76/100\n",
            "469/469 [==============================] - 11s 23ms/step - loss: 0.0142 - accuracy: 0.9953 - val_loss: 0.3261 - val_accuracy: 0.9340\n",
            "Epoch 77/100\n",
            "469/469 [==============================] - 11s 23ms/step - loss: 0.0138 - accuracy: 0.9949 - val_loss: 0.3182 - val_accuracy: 0.9382\n",
            "Epoch 78/100\n",
            "469/469 [==============================] - 11s 23ms/step - loss: 0.0134 - accuracy: 0.9954 - val_loss: 0.3175 - val_accuracy: 0.9382\n",
            "Epoch 79/100\n",
            "469/469 [==============================] - 11s 24ms/step - loss: 0.0129 - accuracy: 0.9955 - val_loss: 0.3217 - val_accuracy: 0.9358\n",
            "Epoch 80/100\n",
            "469/469 [==============================] - 11s 23ms/step - loss: 0.0134 - accuracy: 0.9951 - val_loss: 0.3165 - val_accuracy: 0.9394\n",
            "Epoch 81/100\n",
            "469/469 [==============================] - 11s 23ms/step - loss: 0.0119 - accuracy: 0.9956 - val_loss: 0.3141 - val_accuracy: 0.9393\n",
            "Epoch 82/100\n",
            "469/469 [==============================] - 11s 23ms/step - loss: 0.0119 - accuracy: 0.9962 - val_loss: 0.3260 - val_accuracy: 0.9360\n",
            "Epoch 83/100\n",
            "469/469 [==============================] - 11s 23ms/step - loss: 0.0127 - accuracy: 0.9953 - val_loss: 0.3188 - val_accuracy: 0.9378\n",
            "Epoch 84/100\n",
            "469/469 [==============================] - 11s 23ms/step - loss: 0.0133 - accuracy: 0.9952 - val_loss: 0.3130 - val_accuracy: 0.9398\n",
            "Epoch 85/100\n",
            "469/469 [==============================] - 11s 23ms/step - loss: 0.0138 - accuracy: 0.9953 - val_loss: 0.3061 - val_accuracy: 0.9400\n",
            "Epoch 86/100\n",
            "469/469 [==============================] - 11s 23ms/step - loss: 0.0119 - accuracy: 0.9959 - val_loss: 0.3250 - val_accuracy: 0.9386\n",
            "Epoch 87/100\n",
            "469/469 [==============================] - 10s 22ms/step - loss: 0.0110 - accuracy: 0.9962 - val_loss: 0.3216 - val_accuracy: 0.9395\n",
            "Epoch 88/100\n",
            "469/469 [==============================] - 11s 23ms/step - loss: 0.0128 - accuracy: 0.9955 - val_loss: 0.3203 - val_accuracy: 0.9372\n",
            "Epoch 89/100\n",
            "469/469 [==============================] - 11s 23ms/step - loss: 0.0122 - accuracy: 0.9958 - val_loss: 0.3128 - val_accuracy: 0.9395\n",
            "Epoch 90/100\n",
            "469/469 [==============================] - 11s 23ms/step - loss: 0.0110 - accuracy: 0.9959 - val_loss: 0.3186 - val_accuracy: 0.9393\n",
            "Epoch 91/100\n",
            "469/469 [==============================] - 11s 24ms/step - loss: 0.0111 - accuracy: 0.9963 - val_loss: 0.3292 - val_accuracy: 0.9387\n",
            "Epoch 92/100\n",
            "469/469 [==============================] - 11s 23ms/step - loss: 0.0121 - accuracy: 0.9958 - val_loss: 0.3308 - val_accuracy: 0.9359\n",
            "Epoch 93/100\n",
            "469/469 [==============================] - 11s 23ms/step - loss: 0.0137 - accuracy: 0.9954 - val_loss: 0.2923 - val_accuracy: 0.9414\n",
            "Epoch 94/100\n",
            "469/469 [==============================] - 11s 23ms/step - loss: 0.0108 - accuracy: 0.9964 - val_loss: 0.3213 - val_accuracy: 0.9411\n",
            "Epoch 95/100\n",
            "469/469 [==============================] - 11s 23ms/step - loss: 0.0114 - accuracy: 0.9963 - val_loss: 0.3153 - val_accuracy: 0.9405\n",
            "Epoch 96/100\n",
            "469/469 [==============================] - 11s 23ms/step - loss: 0.0107 - accuracy: 0.9965 - val_loss: 0.3096 - val_accuracy: 0.9428\n",
            "Epoch 97/100\n",
            "469/469 [==============================] - 11s 23ms/step - loss: 0.0110 - accuracy: 0.9962 - val_loss: 0.3245 - val_accuracy: 0.9406\n",
            "Epoch 98/100\n",
            "469/469 [==============================] - 11s 23ms/step - loss: 0.0116 - accuracy: 0.9958 - val_loss: 0.3166 - val_accuracy: 0.9393\n",
            "Epoch 99/100\n",
            "469/469 [==============================] - 11s 24ms/step - loss: 0.0117 - accuracy: 0.9959 - val_loss: 0.3329 - val_accuracy: 0.9410\n",
            "Epoch 100/100\n",
            "469/469 [==============================] - 11s 23ms/step - loss: 0.0103 - accuracy: 0.9966 - val_loss: 0.3165 - val_accuracy: 0.9407\n"
          ]
        },
        {
          "output_type": "execute_result",
          "data": {
            "text/plain": [
              "<keras.src.callbacks.History at 0x7d6e6d767d00>"
            ]
          },
          "metadata": {},
          "execution_count": 9
        }
      ]
    }
  ]
}